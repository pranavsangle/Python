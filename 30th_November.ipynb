{
 "cells": [
  {
   "cell_type": "code",
   "execution_count": 1,
   "metadata": {},
   "outputs": [
    {
     "name": "stdout",
     "output_type": "stream",
     "text": [
      "Hello\n"
     ]
    }
   ],
   "source": [
    "print ('Hello')\n"
   ]
  },
  {
   "cell_type": "code",
   "execution_count": 2,
   "metadata": {},
   "outputs": [
    {
     "name": "stdout",
     "output_type": "stream",
     "text": [
      "Enter a number : 9\n",
      "9 is an odd number\n",
      "This is another statement\n",
      "This is outside the block\n"
     ]
    }
   ],
   "source": [
    "number = int(input('Enter a number : '))\n",
    "\n",
    "if number % 2 == 1:\n",
    "    print('%d is an odd number' %(number))\n",
    "    print('This is another statement')\n",
    "    \n",
    "else:\n",
    "    print('%d is an even number' %(number))\n",
    "    print('This is another statement')\n",
    "print('This is outside the block')"
   ]
  },
  {
   "cell_type": "code",
   "execution_count": 9,
   "metadata": {},
   "outputs": [
    {
     "name": "stdout",
     "output_type": "stream",
     "text": [
      "True\n"
     ]
    }
   ],
   "source": [
    "# INT -  0,0.0,0j\n",
    "#str - ''\n",
    "#list - []\n",
    "#dict - {}\n",
    "#set - {} False\n",
    "#tuple - ()False\n",
    "#none - False\n",
    "\n",
    "obj = [0]\n",
    "\n",
    "if obj:\n",
    "    print(True)\n",
    "else:\n",
    "    print(False)"
   ]
  },
  {
   "cell_type": "code",
   "execution_count": 11,
   "metadata": {},
   "outputs": [
    {
     "name": "stdout",
     "output_type": "stream",
     "text": [
      "True\n"
     ]
    },
    {
     "data": {
      "text/plain": [
       "True"
      ]
     },
     "execution_count": 11,
     "metadata": {},
     "output_type": "execute_result"
    }
   ],
   "source": [
    "obj = (0,)\n",
    "print(True) if obj else print(False) #only when you have single statement in If and Else Condition.\n",
    "True if obj else False"
   ]
  },
  {
   "cell_type": "code",
   "execution_count": 12,
   "metadata": {},
   "outputs": [
    {
     "name": "stdout",
     "output_type": "stream",
     "text": [
      "Enter a number : 5\n",
      "5 is an odd number\n",
      "5 is less than 10 and odd\n",
      "This is outside the block\n"
     ]
    }
   ],
   "source": [
    "number = int(input('Enter a number : '))\n",
    "\n",
    "if number % 2 == 1:\n",
    "    print('%d is an odd number' %(number))\n",
    "    \n",
    "    if number > 10:\n",
    "        print('%d is greater than 10 and odd' %(number))\n",
    "    else:\n",
    "        print('%d is less than 10 and odd' %(number))\n",
    "    print('This is outside the block')\n",
    "else:\n",
    "    print('%d is an even number' %(number))\n",
    "    print('This is another statement')\n"
   ]
  },
  {
   "cell_type": "code",
   "execution_count": 3,
   "metadata": {},
   "outputs": [
    {
     "name": "stdout",
     "output_type": "stream",
     "text": [
      "There are exactly 10 objects in list\n"
     ]
    }
   ],
   "source": [
    "numbers = list(range(10))\n",
    "\n",
    "if len(numbers) > 10:\n",
    "    print('There are more than 10 objects i list')\n",
    "elif len(numbers) <10:\n",
    "    print('There are less than 10 objects in list')\n",
    "    \n",
    "elif len(numbers)== 10:\n",
    "    print('There are exactly 10 objects in list')\n",
    "\n",
    "else:\n",
    "    pass # Pass is used for completing the indentation.\n",
    "\n"
   ]
  },
  {
   "cell_type": "code",
   "execution_count": 2,
   "metadata": {},
   "outputs": [
    {
     "name": "stdout",
     "output_type": "stream",
     "text": [
      "Enter a number : 101\n",
      "101 is an even number\n",
      "This is another statement\n"
     ]
    }
   ],
   "source": [
    "number = int(input('Enter a number : '))\n",
    "\n",
    "if number % 2==0 and number > 10 or number <50:\n",
    "    print('%d is an odd number and greater than 10' %(number))\n",
    "    \n",
    "\n",
    "else:\n",
    "    print('%d is an even number' %(number))\n",
    "    print('This is another statement')"
   ]
  },
  {
   "cell_type": "code",
   "execution_count": 5,
   "metadata": {},
   "outputs": [
    {
     "name": "stdout",
     "output_type": "stream",
     "text": [
      "1 is the count\n",
      "2 is the count\n",
      "3 is the count\n",
      "4 is the count\n",
      "5 is the count\n",
      "6 is the count\n",
      "7 is the count\n",
      "8 is the count\n",
      "9 is the count\n",
      "All numbers are printed\n"
     ]
    }
   ],
   "source": [
    "#*****************************LOOPS****************************************************\n",
    "\n",
    "\n",
    "count=1\n",
    "\n",
    "while(count < 10):\n",
    "    print('%d is the count' %(count))\n",
    "    count+=1\n",
    "else:\n",
    "    print('All numbers are printed')"
   ]
  },
  {
   "cell_type": "code",
   "execution_count": 6,
   "metadata": {},
   "outputs": [
    {
     "name": "stdout",
     "output_type": "stream",
     "text": [
      "Enter a number: 10\n",
      "1 is the number\n",
      "2 is the number\n",
      "3 is the number\n",
      "4 is the number\n",
      "5 is the number\n",
      "6 is the number\n",
      "7 is the number\n",
      "8 is the number\n",
      "9 is the number\n"
     ]
    }
   ],
   "source": [
    "n=1\n",
    "count = int(input('Enter a number: '))\n",
    "\n",
    "while(n<count):\n",
    "    print('%d is the number' %(n))\n",
    "    n+=1"
   ]
  },
  {
   "cell_type": "code",
   "execution_count": 8,
   "metadata": {},
   "outputs": [
    {
     "name": "stdout",
     "output_type": "stream",
     "text": [
      "Enter a number: 10\n",
      "10 is the number\n",
      "9 is the number\n",
      "8 is the number\n",
      "7 is the number\n",
      "6 is the number\n",
      "5 is the number\n",
      "4 is the number\n",
      "3 is the number\n",
      "2 is the number\n",
      "1 is the number\n"
     ]
    }
   ],
   "source": [
    "n=0\n",
    "count = int(input('Enter a number: '))\n",
    "\n",
    "while(count>n):\n",
    "    print('%d is the number' %(count))\n",
    "    count-=1"
   ]
  },
  {
   "cell_type": "code",
   "execution_count": 6,
   "metadata": {},
   "outputs": [
    {
     "name": "stdout",
     "output_type": "stream",
     "text": [
      "a\n",
      "b\n",
      "c\n",
      "d\n",
      "e\n",
      "f\n",
      "g\n",
      "h\n",
      "i\n",
      "j\n",
      "k\n",
      "l\n",
      "m\n",
      "n\n",
      "o\n",
      "p\n",
      "q\n",
      "r\n",
      "s\n",
      "t\n",
      "u\n",
      "v\n",
      "w\n",
      "x\n",
      "y\n",
      "All letterd are printed\n"
     ]
    }
   ],
   "source": [
    "letter = 'a'\n",
    "letter1 ='z'\n",
    "count = ord(letter)\n",
    "count1 =ord(letter1)\n",
    "while(count <= count1):\n",
    "    print(chr(count))\n",
    "    count+=1\n",
    "else:\n",
    "    print('All letterd are printed')"
   ]
  },
  {
   "cell_type": "code",
   "execution_count": null,
   "metadata": {},
   "outputs": [],
   "source": [
    "letter = 'a'\n",
    "letter = 'z'\n",
    "ord(letter1)\n",
    "ord(letter)\n",
    "\n",
    "count =ord(letter1)\n",
    "print(count)"
   ]
  },
  {
   "cell_type": "code",
   "execution_count": null,
   "metadata": {},
   "outputs": [],
   "source": [
    "num1=1\n",
    "while(num1<101):\n",
    "    if(num1 %2 == 0):\n",
    "        print(num1)"
   ]
  },
  {
   "cell_type": "code",
   "execution_count": null,
   "metadata": {},
   "outputs": [],
   "source": [
    "ord(z)"
   ]
  },
  {
   "cell_type": "code",
   "execution_count": null,
   "metadata": {},
   "outputs": [],
   "source": []
  }
 ],
 "metadata": {
  "kernelspec": {
   "display_name": "Python 3",
   "language": "python",
   "name": "python3"
  },
  "language_info": {
   "codemirror_mode": {
    "name": "ipython",
    "version": 3
   },
   "file_extension": ".py",
   "mimetype": "text/x-python",
   "name": "python",
   "nbconvert_exporter": "python",
   "pygments_lexer": "ipython3",
   "version": "3.7.4"
  }
 },
 "nbformat": 4,
 "nbformat_minor": 2
}
